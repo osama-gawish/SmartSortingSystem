{
 "cells": [
  {
   "cell_type": "markdown",
   "id": "9c6b2b04",
   "metadata": {},
   "source": [
    "<p align=center>\n",
    "<img src=\"https://s3.us-west-1.amazonaws.com/evanjuras.com/img/CoinDetectorDemo.gif\" height=\"360\"><br>\n",
    "<i>Custom SSD-MobileNet-FPNLite model in action!</i>\n",
    "</p>\n"
   ]
  },
  {
   "cell_type": "markdown",
   "id": "a53f9eb9",
   "metadata": {},
   "source": [
    "<div style=\"width: 100%; height: 100%; overflow: auto;\">\n",
    "    <video controls src=\"video.mp4\" />\n",
    "</div>"
   ]
  },
  {
   "cell_type": "code",
   "execution_count": 4,
   "id": "f10aee32",
   "metadata": {},
   "outputs": [
    {
     "data": {
      "text/html": [
       "<video controls src=\"video.mp4\" /></div>"
      ],
      "text/plain": [
       "<IPython.core.display.HTML object>"
      ]
     },
     "metadata": {},
     "output_type": "display_data"
    }
   ],
   "source": [
    "from IPython.display import HTML\n",
    "\n",
    "# Define the HTML content with CSS for size adjustment\n",
    "html_content = '<video controls src=\"video.mp4\" /></div>'\n",
    "display(HTML(html_content))\n"
   ]
  },
  {
   "cell_type": "markdown",
   "id": "6a316ec2",
   "metadata": {},
   "source": [
    "<p align=center>\n",
    "<img src=\"video.mp4\" height=\"360\"><br>\n",
    "<i>Custom SSD-MobileNet-FPNLite model in action!</i>\n",
    "</p>"
   ]
  },
  {
   "cell_type": "code",
   "execution_count": 7,
   "id": "2f086be3",
   "metadata": {},
   "outputs": [
    {
     "data": {
      "text/html": [
       "<iframe width=\"560\" height=\"315\" src=\"https://youtu.be/3KttpeP0JCc?si=KsoSCwPFDJNAHqE6\" frameborder=\"0\" allowfullscreen></iframe>\n"
      ],
      "text/plain": [
       "<IPython.core.display.HTML object>"
      ]
     },
     "metadata": {},
     "output_type": "display_data"
    }
   ],
   "source": [
    "%%HTML\n",
    "<iframe width=\"560\" height=\"315\" src=\"https://youtu.be/3KttpeP0JCc?si=KsoSCwPFDJNAHqE6\" frameborder=\"0\" allowfullscreen></iframe>\n"
   ]
  },
  {
   "cell_type": "code",
   "execution_count": 10,
   "id": "5a8dfe22",
   "metadata": {},
   "outputs": [
    {
     "data": {
      "text/html": [
       "\n",
       "        <iframe\n",
       "            width=\"400\"\n",
       "            height=\"300\"\n",
       "            src=\"https://www.youtube.com/embed/3KttpeP0JCc?si=KsoSCwPFDJNAHqE6\"\n",
       "            frameborder=\"0\"\n",
       "            allowfullscreen\n",
       "            \n",
       "        ></iframe>\n",
       "        "
      ],
      "text/plain": [
       "<IPython.lib.display.YouTubeVideo at 0x27edb4a00d0>"
      ]
     },
     "execution_count": 10,
     "metadata": {},
     "output_type": "execute_result"
    }
   ],
   "source": [
    "from IPython.display import YouTubeVideo\n",
    "YouTubeVideo('3KttpeP0JCc?si=KsoSCwPFDJNAHqE6')\n",
    "\n"
   ]
  },
  {
   "cell_type": "code",
   "execution_count": null,
   "id": "686f1d05",
   "metadata": {},
   "outputs": [],
   "source": []
  }
 ],
 "metadata": {
  "kernelspec": {
   "display_name": "Python 3 (ipykernel)",
   "language": "python",
   "name": "python3"
  },
  "language_info": {
   "codemirror_mode": {
    "name": "ipython",
    "version": 3
   },
   "file_extension": ".py",
   "mimetype": "text/x-python",
   "name": "python",
   "nbconvert_exporter": "python",
   "pygments_lexer": "ipython3",
   "version": "3.11.4"
  }
 },
 "nbformat": 4,
 "nbformat_minor": 5
}
